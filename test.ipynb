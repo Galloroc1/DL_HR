{
  "nbformat": 4,
  "nbformat_minor": 0,
  "metadata": {
    "colab": {
      "provenance": [],
      "authorship_tag": "ABX9TyPXRSaAd/ttJjxvEitprfIi",
      "include_colab_link": true
    },
    "kernelspec": {
      "name": "python3",
      "display_name": "Python 3"
    },
    "language_info": {
      "name": "python"
    }
  },
  "cells": [
    {
      "cell_type": "markdown",
      "metadata": {
        "id": "view-in-github",
        "colab_type": "text"
      },
      "source": [
        "<a href=\"https://colab.research.google.com/github/1176651368/DL_HR/blob/main/test.ipynb\" target=\"_parent\"><img src=\"https://colab.research.google.com/assets/colab-badge.svg\" alt=\"Open In Colab\"/></a>"
      ]
    },
    {
      "cell_type": "code",
      "execution_count": 2,
      "metadata": {
        "colab": {
          "base_uri": "https://localhost:8080/"
        },
        "id": "KCPnf_YksehY",
        "outputId": "dcb9f456-fc4c-4216-ec73-c54fbf6bc9b5"
      },
      "outputs": [
        {
          "output_type": "stream",
          "name": "stdout",
          "text": [
            "[[0.46438708 0.6010287  0.32287444]\n",
            " [0.84597485 0.57722827 0.20662708]\n",
            " [0.51460571 0.79574796 0.66091536]]\n"
          ]
        }
      ],
      "source": [
        "import numpy as np\n",
        "data = np.random.random_sample((3,3))\n",
        "print(data)"
      ]
    }
  ]
}